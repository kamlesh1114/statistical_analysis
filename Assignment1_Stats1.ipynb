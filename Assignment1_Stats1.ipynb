{
 "cells": [
  {
   "cell_type": "code",
   "execution_count": 1,
   "id": "de99d22b",
   "metadata": {},
   "outputs": [],
   "source": [
    "import matplotlib.pyplot as plt\n",
    "import numpy as np\n",
    "import pandas as pd\n",
    "import seaborn as sns"
   ]
  },
  {
   "cell_type": "code",
   "execution_count": 2,
   "id": "342d1f16",
   "metadata": {},
   "outputs": [],
   "source": [
    "from scipy import stats"
   ]
  },
  {
   "cell_type": "markdown",
   "id": "a3315698",
   "metadata": {},
   "source": [
    "### Q1). Activity\tData Type"
   ]
  },
  {
   "cell_type": "markdown",
   "id": "5469c320",
   "metadata": {},
   "source": [
    "\n",
    "- Number of beatings from Wife\t- (Discrete)\n",
    "- Results of rolling a dice\t-     (Discrete)\n",
    "- Weight of a person\t-         (Continuous)\n",
    "- Weight of Gold\t-             (Continuous)\n",
    "- Distance between two places\t- (Continuous)\n",
    "- Length of a leaf\t-             (Continuous)\n",
    "- Dog's weight\t-                 (Continuous)\n",
    "- Blue Color\t-                 (Discrete)\n",
    "- Number of kids\t-             (Discrete)\n",
    "- Number of tickets in Indian railways\t-(Discrete)\n",
    "- Number of times married\t-     (Discrete)\n",
    "- Gender (Male or Female)\t-     (Discrete)"
   ]
  },
  {
   "cell_type": "markdown",
   "id": "5cea2ffb",
   "metadata": {},
   "source": [
    "### Q2). Identify the Data types, which were among the following\n",
    "##### Nominal, Ordinal, Interval, Ratio.\n",
    "\n",
    "##### Answer\n",
    "\n",
    "\n",
    "\n",
    "- Gender\t                          = Discrete (Nominal)\n",
    "- High School Class Ranking\t          = Discrete (Nominal)\n",
    "- Celsius Temperature              \t  = Continuous (Interval)\n",
    "- Weight\t                          = Continuous (Ratio)\n",
    "- Hair Color\t                      = Discrete (Ratio)\n",
    "- Socioeconomic Status\t              = Continuous (Interval)\n",
    "- Fahrenheit Temperature\t          = Continuous (Ratio)\n",
    "- Height\t                          = Continuous (Ratio)\n",
    "- Type of living accommodation\t      = Discrete (Ordinal)\n",
    "- Level of Agreement\t              = Discrete (Interval)\n",
    "- IQ (Intelligence Scale)\t          = Discrete (Interval)\n",
    "- Sales Figures\t                      = Discrete (Interval)\n",
    "- Blood Group\t                      = Discrete (Ration)\n",
    "- Time Of Day\t                      = Continuous (Interval)\n",
    "- Time on a Clock with Hands\t      = Continuous (Interval)\n",
    "- Number of Children\t              = Discrete (Interval)\n",
    "- Religious Preference\t              = Discrete (Ration)\n",
    "- Barometer Pressure\t              = Discrete (Interval)\n",
    "- SAT Scores\t                      = Discrete (Ration)\n",
    "- Years of Education\t              = Discrete (Nominal)\n"
   ]
  },
  {
   "cell_type": "markdown",
   "id": "57b8e5cc",
   "metadata": {},
   "source": [
    "### Q3) Three Coins are tossed, find the probability that two heads and one tail are obtained?\n",
    "\n",
    "##### ANSWER: \n",
    "\n",
    "  Total Possible Events : 8 , No of desired events: 3\n",
    "- P = 3/8\n"
   ]
  },
  {
   "cell_type": "markdown",
   "id": "a75d387d",
   "metadata": {},
   "source": [
    "### Q4)  Two Dice are rolled, find the probability that sum is\n",
    "- a)Equal to 1\n",
    "- b)Less than or equal to 4\n",
    "- c)Sum is divisible by 2 and  3\n",
    "##### Answer \n",
    "\n",
    "##### a.) \n",
    "- Total possible outcomes n(S)= (6)^2=36\n",
    "- favorable outcomes (sum is equal to 1)  n(B)=0\n",
    "##### P(B) =  n(B)/n(S) = 0/36 =0\n",
    "\n",
    "##### b.)\n",
    "- Event of the sum is equal to 4\n",
    "- B={(1,3),(2,2),(3,1)}\n",
    "- n(B)=3\n",
    "##### P(B)= n(B)/n(S) = 3/36 = 0.083\n",
    "\n",
    "##### c.)\n",
    "- Total number of possible outcomes n(S)= 36\n",
    "- Favorable outcomes = sum is divisible by 2 and 3\n",
    "- Sum should be divisible by both 2 and 3\n",
    "- Favorable outcomes B= {(1 , 5) , (3 , 3) , (4 , 2) , (5 , 1) , (6 , 6)}\n",
    "- Number of favorable outcomes  n(B)= 5\n",
    "- The probability of an event is given as:\n",
    "##### P(B) = n(B)/n(S) = 5/36 = 0.139\n",
    "\n"
   ]
  },
  {
   "cell_type": "code",
   "execution_count": null,
   "id": "cd4fe912",
   "metadata": {},
   "outputs": [],
   "source": []
  },
  {
   "cell_type": "markdown",
   "id": "1090197b",
   "metadata": {},
   "source": [
    "### Q5). A bag contains 2 red, 3 green and 2 blue balls. Two balls are drawn at random. What is the probability that none of the balls drawn is blue?\n",
    "\n",
    "- sample space n(S) =7c2 = 21. \n",
    "- Let event E be none of the balls is blue = all balls are either red or green or both. \n",
    "- n(E) = 5c2 =10 \n",
    "#### P(E) = n(E)/n(S) = 10/21 = 0.47\n"
   ]
  },
  {
   "cell_type": "markdown",
   "id": "301494d7",
   "metadata": {},
   "source": [
    "### Q6.) Calculate the Expected number of candies for a randomly selected child \n",
    "Below are the probabilities of count of candies for children (ignoring the nature of the child-Generalized view)\n",
    "- CHILD\tCandies count\tProbability\n",
    "- A\t1\t0.015\n",
    "- B\t4\t0.20\n",
    "- C\t3\t0.65\n",
    "- D\t5\t0.005\n",
    "- E\t6\t0.01\n",
    "- F\t2\t0.120\n",
    "\n",
    "- Child A – probability of having 1 candy = 0.015.\n",
    "- Child B – probability of having 4 candies = 0.20\n",
    "##### Answer\n",
    "Expected number of candies for a randomly selected child"
   ]
  },
  {
   "cell_type": "code",
   "execution_count": 3,
   "id": "b230b8df",
   "metadata": {},
   "outputs": [
    {
     "data": {
      "text/plain": [
       "3.09"
      ]
     },
     "execution_count": 3,
     "metadata": {},
     "output_type": "execute_result"
    }
   ],
   "source": [
    "(1*0.015) + (4*0.20) + (3*0.65) + (5*0.005) + (6*0.01) + (2*0.12)"
   ]
  },
  {
   "cell_type": "code",
   "execution_count": null,
   "id": "68a09b67",
   "metadata": {},
   "outputs": [],
   "source": []
  },
  {
   "cell_type": "markdown",
   "id": "bf65494a",
   "metadata": {},
   "source": [
    "### Question 7.   Mean, Median, Mode, Variance, Standard Deviation, and Range \n",
    "\n",
    "Q7) Calculate Mean, Median, Mode, Variance, Standard Deviation, Range & comment about the values / draw inferences, for the given dataset\n",
    "-\tFor Points,Score,Weigh>\n",
    "-   Find Mean, Median, Mode, Variance, Standard Deviation, and Range and also Comment about the values/ Draw some inferences.\n",
    "- Use Q7.csv file \n",
    "\n",
    "##### Answer\n"
   ]
  },
  {
   "cell_type": "code",
   "execution_count": 4,
   "id": "e5bf7608",
   "metadata": {},
   "outputs": [],
   "source": [
    "data=pd.read_csv('Q7.csv')"
   ]
  },
  {
   "cell_type": "code",
   "execution_count": 5,
   "id": "2ecadde0",
   "metadata": {},
   "outputs": [
    {
     "data": {
      "text/html": [
       "<div>\n",
       "<style scoped>\n",
       "    .dataframe tbody tr th:only-of-type {\n",
       "        vertical-align: middle;\n",
       "    }\n",
       "\n",
       "    .dataframe tbody tr th {\n",
       "        vertical-align: top;\n",
       "    }\n",
       "\n",
       "    .dataframe thead th {\n",
       "        text-align: right;\n",
       "    }\n",
       "</style>\n",
       "<table border=\"1\" class=\"dataframe\">\n",
       "  <thead>\n",
       "    <tr style=\"text-align: right;\">\n",
       "      <th></th>\n",
       "      <th>Points</th>\n",
       "      <th>Score</th>\n",
       "      <th>Weigh</th>\n",
       "    </tr>\n",
       "  </thead>\n",
       "  <tbody>\n",
       "    <tr>\n",
       "      <th>count</th>\n",
       "      <td>32.000000</td>\n",
       "      <td>32.000000</td>\n",
       "      <td>32.000000</td>\n",
       "    </tr>\n",
       "    <tr>\n",
       "      <th>mean</th>\n",
       "      <td>3.596563</td>\n",
       "      <td>3.217250</td>\n",
       "      <td>17.848750</td>\n",
       "    </tr>\n",
       "    <tr>\n",
       "      <th>std</th>\n",
       "      <td>0.534679</td>\n",
       "      <td>0.978457</td>\n",
       "      <td>1.786943</td>\n",
       "    </tr>\n",
       "    <tr>\n",
       "      <th>min</th>\n",
       "      <td>2.760000</td>\n",
       "      <td>1.513000</td>\n",
       "      <td>14.500000</td>\n",
       "    </tr>\n",
       "    <tr>\n",
       "      <th>25%</th>\n",
       "      <td>3.080000</td>\n",
       "      <td>2.581250</td>\n",
       "      <td>16.892500</td>\n",
       "    </tr>\n",
       "    <tr>\n",
       "      <th>50%</th>\n",
       "      <td>3.695000</td>\n",
       "      <td>3.325000</td>\n",
       "      <td>17.710000</td>\n",
       "    </tr>\n",
       "    <tr>\n",
       "      <th>75%</th>\n",
       "      <td>3.920000</td>\n",
       "      <td>3.610000</td>\n",
       "      <td>18.900000</td>\n",
       "    </tr>\n",
       "    <tr>\n",
       "      <th>max</th>\n",
       "      <td>4.930000</td>\n",
       "      <td>5.424000</td>\n",
       "      <td>22.900000</td>\n",
       "    </tr>\n",
       "  </tbody>\n",
       "</table>\n",
       "</div>"
      ],
      "text/plain": [
       "          Points      Score      Weigh\n",
       "count  32.000000  32.000000  32.000000\n",
       "mean    3.596563   3.217250  17.848750\n",
       "std     0.534679   0.978457   1.786943\n",
       "min     2.760000   1.513000  14.500000\n",
       "25%     3.080000   2.581250  16.892500\n",
       "50%     3.695000   3.325000  17.710000\n",
       "75%     3.920000   3.610000  18.900000\n",
       "max     4.930000   5.424000  22.900000"
      ]
     },
     "execution_count": 5,
     "metadata": {},
     "output_type": "execute_result"
    }
   ],
   "source": [
    "data.describe()"
   ]
  },
  {
   "cell_type": "code",
   "execution_count": 6,
   "id": "fff89908",
   "metadata": {},
   "outputs": [],
   "source": [
    "points_data=data.Points.to_list()"
   ]
  },
  {
   "cell_type": "code",
   "execution_count": 7,
   "id": "371360a3",
   "metadata": {},
   "outputs": [],
   "source": [
    "score_data=data.Score.to_list()"
   ]
  },
  {
   "cell_type": "code",
   "execution_count": 8,
   "id": "016de9d4",
   "metadata": {},
   "outputs": [],
   "source": [
    "weigh_data=data.Weigh.to_list()"
   ]
  },
  {
   "cell_type": "markdown",
   "id": "67ffceb7",
   "metadata": {},
   "source": [
    "### (Points)"
   ]
  },
  {
   "cell_type": "code",
   "execution_count": 9,
   "id": "9106436e",
   "metadata": {},
   "outputs": [],
   "source": [
    "mean_points=np.mean(points_data)\n",
    "\n",
    "median_points=np.median(points_data)\n",
    "\n",
    "mode_points=stats.mode(points_data)\n",
    "\n",
    "variance_points=np.var(points_data)\n",
    "\n",
    "std_points=np.std(points_data)\n",
    "\n",
    "range_points=np.max(points_data)-np.min(points_data)\n"
   ]
  },
  {
   "cell_type": "code",
   "execution_count": 10,
   "id": "8230ece9",
   "metadata": {},
   "outputs": [
    {
     "name": "stdout",
     "output_type": "stream",
     "text": [
      "Mean: 3.5965625,\n",
      "Median: 3.6950000000000003,\n",
      "Mode: ModeResult(mode=array([3.07]), count=array([3])),\n",
      "Variance: 0.27694755859375,\n",
      "Standard Deviation: 0.526258072236189,\n",
      "Range: 2.17\n"
     ]
    }
   ],
   "source": [
    "print(f'Mean: {mean_points},\\nMedian: {median_points},\\nMode: {mode_points},\\nVariance: {variance_points},\\nStandard Deviation: {std_points},\\nRange: {range_points}')"
   ]
  },
  {
   "cell_type": "markdown",
   "id": "25d04a9b",
   "metadata": {},
   "source": [
    "### (Score)"
   ]
  },
  {
   "cell_type": "code",
   "execution_count": 11,
   "id": "a34828a8",
   "metadata": {},
   "outputs": [],
   "source": [
    "mean_score=np.mean(score_data)\n",
    "\n",
    "median_score=np.median(score_data)\n",
    "\n",
    "mode_score=stats.mode(score_data)\n",
    "\n",
    "variance_score=np.var(score_data)\n",
    "\n",
    "std_score=np.std(score_data)\n",
    "\n",
    "range_score=np.max(score_data)-np.min(score_data)\n"
   ]
  },
  {
   "cell_type": "code",
   "execution_count": 12,
   "id": "679bcc49",
   "metadata": {},
   "outputs": [
    {
     "name": "stdout",
     "output_type": "stream",
     "text": [
      "Mean: 3.2172500000000004,\n",
      "Median: 3.325,\n",
      "Mode: ModeResult(mode=array([3.44]), count=array([3])),\n",
      "Variance: 0.927460875,\n",
      "Standard Deviation: 0.9630477013107918,\n",
      "Range: 3.9110000000000005\n"
     ]
    }
   ],
   "source": [
    "print(f'Mean: {mean_score},\\nMedian: {median_score},\\nMode: {mode_score},\\nVariance: {variance_score},\\nStandard Deviation: {std_score},\\nRange: {range_score}')"
   ]
  },
  {
   "cell_type": "markdown",
   "id": "e9686381",
   "metadata": {},
   "source": [
    "### (Weigh)"
   ]
  },
  {
   "cell_type": "code",
   "execution_count": 13,
   "id": "37c5f29e",
   "metadata": {},
   "outputs": [],
   "source": [
    "mean_weigh=np.mean(weigh_data)\n",
    "\n",
    "median_weigh=np.median(weigh_data)\n",
    "\n",
    "mode_weigh=stats.mode(weigh_data)\n",
    "\n",
    "variance_weigh=np.var(weigh_data)\n",
    "\n",
    "std_weigh=np.std(weigh_data)\n",
    "\n",
    "range_weigh=np.max(weigh_data)-np.min(weigh_data)"
   ]
  },
  {
   "cell_type": "code",
   "execution_count": 14,
   "id": "a004d1a5",
   "metadata": {},
   "outputs": [
    {
     "name": "stdout",
     "output_type": "stream",
     "text": [
      "Mean: 17.848750000000003,\n",
      "Median: 17.71,\n",
      "Mode: ModeResult(mode=array([17.02]), count=array([2])),\n",
      "Variance: 3.0933796874999997,\n",
      "Standard Deviation: 1.758800638929836,\n",
      "Range: 8.399999999999999\n"
     ]
    }
   ],
   "source": [
    "print(f'Mean: {mean_weigh},\\nMedian: {median_weigh},\\nMode: {mode_weigh},\\nVariance: {variance_weigh},\\nStandard Deviation: {std_weigh},\\nRange: {range_weigh}')"
   ]
  },
  {
   "cell_type": "markdown",
   "id": "7a3f28cb",
   "metadata": {},
   "source": [
    "### Q8) Calculate Expected Value for the problem below\n",
    "- a)\tThe weights (X) of patients at a clinic (in pounds), are\n",
    "- 108, 110, 123, 134, 135, 145, 167, 187, 199\n",
    "- Assume one of the patients is chosen at random. What is the Expected Value of the Weight of that patient?\n",
    "\n",
    "##### Answer\n",
    "\n",
    "Expected Value  =  ∑ ( probability  * Value )\n",
    "\n",
    "- ∑ P(x).E(x)\n",
    "- there are 9 patients\n",
    "- Probability of selecting each patient = 1/9\n",
    "- Ex  108, 110, 123, 134, 135, 145, 167, 187, 199\n",
    "- P(x)  1/9  1/9   1/9  1/9   1/9   1/9   1/9   1/9  1/9\n",
    "#### 145.33\n"
   ]
  },
  {
   "cell_type": "code",
   "execution_count": 15,
   "id": "8fde3f72",
   "metadata": {},
   "outputs": [],
   "source": [
    "expected_values= (1/9)*(108) + (1/9)*110  + (1/9)*123 + (1/9)*134 + (1/9)*135 + (1/9)*145 + (1/9)*(167) + (1/9)*187 + (1/9)*199"
   ]
  },
  {
   "cell_type": "code",
   "execution_count": 16,
   "id": "fce307f7",
   "metadata": {},
   "outputs": [
    {
     "data": {
      "text/plain": [
       "145.33333333333331"
      ]
     },
     "execution_count": 16,
     "metadata": {},
     "output_type": "execute_result"
    }
   ],
   "source": [
    "expected_values"
   ]
  },
  {
   "cell_type": "markdown",
   "id": "e879cc4d",
   "metadata": {},
   "source": [
    "### Question 9\n",
    "\n",
    "Q9) Calculate Skewness, Kurtosis & draw inferences on the following data\n",
    "      Cars speed and distance \n",
    "Use Q9_a.csv\n",
    "\n",
    "SP and Weight(WT)\n",
    "Use Q9_b.csv\n"
   ]
  },
  {
   "cell_type": "code",
   "execution_count": 17,
   "id": "a8b86ba8",
   "metadata": {},
   "outputs": [],
   "source": [
    "data_Q9_a=pd.read_csv('Q9_a.csv')"
   ]
  },
  {
   "cell_type": "code",
   "execution_count": 18,
   "id": "43921ec7",
   "metadata": {},
   "outputs": [],
   "source": [
    "data_Q9_a.drop('Index',axis=1,inplace=True)"
   ]
  },
  {
   "cell_type": "code",
   "execution_count": 19,
   "id": "cef97ffc",
   "metadata": {},
   "outputs": [
    {
     "data": {
      "text/plain": [
       "speed   -0.117510\n",
       "dist     0.806895\n",
       "dtype: float64"
      ]
     },
     "execution_count": 19,
     "metadata": {},
     "output_type": "execute_result"
    }
   ],
   "source": [
    "# Skewness\n",
    "data_Q9_a.skew()"
   ]
  },
  {
   "cell_type": "code",
   "execution_count": 20,
   "id": "385af822",
   "metadata": {},
   "outputs": [
    {
     "data": {
      "text/plain": [
       "speed   -0.508994\n",
       "dist     0.405053\n",
       "dtype: float64"
      ]
     },
     "execution_count": 20,
     "metadata": {},
     "output_type": "execute_result"
    }
   ],
   "source": [
    "# Kurtosis\n",
    "data_Q9_a.kurt()"
   ]
  },
  {
   "cell_type": "code",
   "execution_count": 21,
   "id": "fa443b3b",
   "metadata": {},
   "outputs": [],
   "source": [
    "data_Q9_b=pd.read_csv('Q9_b.csv')"
   ]
  },
  {
   "cell_type": "code",
   "execution_count": 22,
   "id": "56afcd4d",
   "metadata": {},
   "outputs": [],
   "source": [
    "data_Q9_b.drop('Unnamed: 0',axis=1,inplace=True)"
   ]
  },
  {
   "cell_type": "code",
   "execution_count": 23,
   "id": "f7da6cf9",
   "metadata": {},
   "outputs": [
    {
     "data": {
      "text/plain": [
       "SP    1.611450\n",
       "WT   -0.614753\n",
       "dtype: float64"
      ]
     },
     "execution_count": 23,
     "metadata": {},
     "output_type": "execute_result"
    }
   ],
   "source": [
    "# Skewness\n",
    "data_Q9_b.skew()"
   ]
  },
  {
   "cell_type": "code",
   "execution_count": 24,
   "id": "a42d5bd9",
   "metadata": {},
   "outputs": [
    {
     "data": {
      "text/plain": [
       "SP    2.977329\n",
       "WT    0.950291\n",
       "dtype: float64"
      ]
     },
     "execution_count": 24,
     "metadata": {},
     "output_type": "execute_result"
    }
   ],
   "source": [
    "# Kurtosis\n",
    "data_Q9_b.kurt()"
   ]
  },
  {
   "cell_type": "markdown",
   "id": "c81aeb8e",
   "metadata": {},
   "source": [
    "### Q10) Draw inferences about the following boxplot & histogram"
   ]
  },
  {
   "attachments": {
    "image-2.png": {
     "image/png": "[encoded data removed]"
    },
    "image.png": {
     "image/png": "[encoded data removed]"
    }
   },
   "cell_type": "markdown",
   "id": "ba3e2cb5",
   "metadata": {},
   "source": [
    "### Histogram:- \n",
    "    - Chick weight data is right skewed or positively skewed.---- Yes- \n",
    "    - More than 50% Chick Weight is between 50 to 150. ---- Yes- \n",
    "    - Most of the chick weight is between 50 to 100. --- Yes\n",
    "    \n",
    "    \n",
    "![image.png](attachment:image.png)    \n",
    "\n",
    "\n",
    "\n",
    "ANSWER :\n",
    "- a)\tChicks has weight in range 50 – 100, followed by 100 -150 and 150 – 200\n",
    "- b)\tThe dataset  is positively Skewed\n",
    "- c)\t3 Categories can be define (Under weight >50; Avg weight 51 – 150; Over weight <150)\n",
    "\n",
    "\n",
    "![image-2.png](attachment:image-2.png)\n",
    "\n",
    "ANSWER:\n",
    "- The data is right skewed.\n",
    "- There are outliers at upper side.\n",
    "\n"
   ]
  },
  {
   "cell_type": "markdown",
   "id": "87d22499",
   "metadata": {},
   "source": [
    "### Q11)  Suppose we want to estimate the average weight of an adult male in    Mexico. We draw a random sample of 2,000 men from a population of 3,000,000 men and weigh them. We find that the average person in our sample weighs 200 pounds, and the standard deviation of the sample is 30 pounds. Calculate 94%,98%,96% confidence interval?\n",
    "\n",
    "##### ANSWER:\n",
    "\n",
    "\n",
    "- \t94%\t (198.73, 201.26)\n",
    "-   96%  (198.62, 201.37)\n",
    "-   98%\t (198.43, 201.56)\n",
    "\n",
    "\n",
    "\n",
    "\n",
    "\n",
    "\n",
    "\n",
    "\n"
   ]
  },
  {
   "cell_type": "code",
   "execution_count": 25,
   "id": "f3382b1b",
   "metadata": {},
   "outputs": [],
   "source": [
    "from scipy import stats\n",
    "from scipy.stats import norm"
   ]
  },
  {
   "cell_type": "code",
   "execution_count": 26,
   "id": "4c2f1aeb",
   "metadata": {},
   "outputs": [
    {
     "data": {
      "text/plain": [
       "(198.738325292158, 201.261674707842)"
      ]
     },
     "execution_count": 26,
     "metadata": {},
     "output_type": "execute_result"
    }
   ],
   "source": [
    "# Avg. weight of Adult in Mexico with 94% CI\n",
    "stats.norm.interval(0.94,200,30/(2000**0.5))"
   ]
  },
  {
   "cell_type": "code",
   "execution_count": 27,
   "id": "ebf37720",
   "metadata": {},
   "outputs": [
    {
     "data": {
      "text/plain": [
       "(198.62230334813333, 201.37769665186667)"
      ]
     },
     "execution_count": 27,
     "metadata": {},
     "output_type": "execute_result"
    }
   ],
   "source": [
    "# Avg. weight of Adult in Mexico with 96% CI\n",
    "stats.norm.interval(0.96,200,30/(2000**0.5))"
   ]
  },
  {
   "cell_type": "code",
   "execution_count": 28,
   "id": "169bc70d",
   "metadata": {},
   "outputs": [
    {
     "data": {
      "text/plain": [
       "(198.43943840429978, 201.56056159570022)"
      ]
     },
     "execution_count": 28,
     "metadata": {},
     "output_type": "execute_result"
    }
   ],
   "source": [
    "# Avg. weight of Adult in Mexico with 98% CI\n",
    "stats.norm.interval(0.98,200,30/(2000**0.5))"
   ]
  },
  {
   "cell_type": "markdown",
   "id": "e71a0e2e",
   "metadata": {},
   "source": [
    "\n",
    "\n",
    "\n",
    "### Q12)  Below are the scores obtained by a student in tests \n",
    "34,36,36,38,38,39,39,40,40,41,41,41,41,42,42,45,49,56\n",
    "\n",
    "- Find mean, median, variance, standard deviation.\n",
    "- What can we say about the student marks? \n"
   ]
  },
  {
   "cell_type": "code",
   "execution_count": 29,
   "id": "e4cd40f8",
   "metadata": {},
   "outputs": [],
   "source": [
    "scores=[34,36,36,38,38,39,39,40,40,41,41,41,41,42,42,45,49,56]"
   ]
  },
  {
   "cell_type": "code",
   "execution_count": 30,
   "id": "c6d5d6d8",
   "metadata": {},
   "outputs": [],
   "source": [
    "mean_scores=np.mean(scores)\n",
    "\n",
    "median_scores=np.median(scores)\n",
    "\n",
    "mode_scores=stats.mode(scores)\n",
    "\n",
    "variance_scores=np.var(scores)\n",
    "\n",
    "std_scores=np.std(scores)\n"
   ]
  },
  {
   "cell_type": "code",
   "execution_count": 31,
   "id": "ec7d4ddc",
   "metadata": {},
   "outputs": [
    {
     "name": "stdout",
     "output_type": "stream",
     "text": [
      "Mean: 41.0,\n",
      "Median: 40.5,\n",
      "Variance: 24.11111111111111,\n",
      "Standard Deviation: 4.910306620885412\n"
     ]
    }
   ],
   "source": [
    "print(f'Mean: {mean_scores},\\nMedian: {median_scores},\\nVariance: {variance_scores},\\nStandard Deviation: {std_scores}')"
   ]
  },
  {
   "cell_type": "code",
   "execution_count": 32,
   "id": "30582921",
   "metadata": {},
   "outputs": [],
   "source": [
    "x=pd.Series(scores)"
   ]
  },
  {
   "cell_type": "code",
   "execution_count": 33,
   "id": "49190193",
   "metadata": {},
   "outputs": [
    {
     "data": {
      "image/png": "[encoded data removed]",
      "text/plain": [
       "<Figure size 432x288 with 1 Axes>"
      ]
     },
     "metadata": {
      "needs_background": "light"
     },
     "output_type": "display_data"
    }
   ],
   "source": [
    "plt.boxplot(x);"
   ]
  },
  {
   "cell_type": "markdown",
   "id": "78a47e9a",
   "metadata": {},
   "source": [
    "### Q13). What is the nature of skewness when mean, median of data are equal?\n",
    "\n",
    "##### Answer\n",
    "-When the distribution is symmetrical, then mean is equal to the median, and distribution has zero skewness."
   ]
  },
  {
   "cell_type": "markdown",
   "id": "39c142e7",
   "metadata": {},
   "source": [
    "### Q14). What is the nature of skewness when mean > median ?\n",
    "\n",
    "##### Answer\n",
    "-It will be positively skewed"
   ]
  },
  {
   "cell_type": "markdown",
   "id": "c7cc6d37",
   "metadata": {},
   "source": [
    "### Q15) What is the nature of skewness when median > mean?\n",
    "\n",
    "##### Answer\n",
    "-It will be negatively skewed"
   ]
  },
  {
   "cell_type": "markdown",
   "id": "5290919c",
   "metadata": {},
   "source": [
    "### Q16). What does positive kurtosis value indicates for a data ?\n",
    "\n",
    "##### Answer\n",
    "-It indicates that the disribution will be at peak and thick tails"
   ]
  },
  {
   "cell_type": "markdown",
   "id": "5d759c25",
   "metadata": {},
   "source": [
    "### Q17). What does negative kurtosis value indicates for a data?\n",
    "\n",
    "##### Answer\n",
    "-It indicates that the distribution has lighter tails than the normal distribution and sharp tails"
   ]
  },
  {
   "attachments": {
    "image.png": {
     "image/png": "[encoded data removed]"
    }
   },
   "cell_type": "markdown",
   "id": "4fd87828",
   "metadata": {},
   "source": [
    "### Q18). Answer the below questions using the below boxplot visualization.\n",
    "\n",
    "![image.png](attachment:image.png)"
   ]
  },
  {
   "cell_type": "markdown",
   "id": "9e600893",
   "metadata": {},
   "source": [
    "#### What can we say about the distribution of the data?\n",
    "\n",
    "##### Answer\n",
    "Its not a normal distribution\n",
    "\n",
    "The distribution in this box plot the values are concentrated on the right side of the distribution"
   ]
  },
  {
   "cell_type": "markdown",
   "id": "2f359e3c",
   "metadata": {},
   "source": [
    "#### What is nature of skewness of the data?\n",
    "\n",
    "##### Answer\n",
    " It is negatively skewed (Quartile3-Quartile2)>(Quartile2-Quartile1)\n",
    "\n",
    "\n"
   ]
  },
  {
   "cell_type": "markdown",
   "id": "3d3974d3",
   "metadata": {},
   "source": []
  },
  {
   "cell_type": "markdown",
   "id": "84c24ac7",
   "metadata": {},
   "source": [
    "#### What will be the IQR of the data (approximately)? \n",
    "\n",
    "##### Answer \n",
    "(18-10)=8\n"
   ]
  },
  {
   "attachments": {
    "image.png": {
     "image/png": "[encoded data removed]"
    }
   },
   "cell_type": "markdown",
   "id": "bd7c246f",
   "metadata": {},
   "source": [
    "### Q19) Comment on the below Boxplot visualizations? \n",
    "\n",
    "![image.png](attachment:image.png)\n",
    "\n",
    "##### Draw an Inference from the distribution of data for Boxplot 1 with respect Boxplot 2.   \n",
    "\n",
    "1)\tData is Normally Distributed. No Outliers. Center around 262.5. Comparatively, first graph has less range\n",
    "\n",
    "2)\tData is Normally Distributed. No Outliers. Center around 262.5Comparatively, second graph has more range\n",
    "\n",
    " \n"
   ]
  },
  {
   "cell_type": "markdown",
   "id": "0d5585ff",
   "metadata": {},
   "source": [
    "# "
   ]
  },
  {
   "cell_type": "markdown",
   "id": "3842aaf9",
   "metadata": {},
   "source": [
    "### Q 20) Calculate probability from the given dataset for the below cases\n",
    "- Data _set: Cars.csv\n",
    "- Calculate the probability of MPG  of Cars for the below cases.\n",
    "- MPG <- Cars$MPG\n",
    "a.\tP(MPG>38)\n",
    "\n",
    "b.\tP(MPG<40)\n",
    "\n",
    "c.\tP (20<MPG<50)\n"
   ]
  },
  {
   "cell_type": "code",
   "execution_count": 34,
   "id": "86706029",
   "metadata": {},
   "outputs": [
    {
     "data": {
      "text/html": [
       "<div>\n",
       "<style scoped>\n",
       "    .dataframe tbody tr th:only-of-type {\n",
       "        vertical-align: middle;\n",
       "    }\n",
       "\n",
       "    .dataframe tbody tr th {\n",
       "        vertical-align: top;\n",
       "    }\n",
       "\n",
       "    .dataframe thead th {\n",
       "        text-align: right;\n",
       "    }\n",
       "</style>\n",
       "<table border=\"1\" class=\"dataframe\">\n",
       "  <thead>\n",
       "    <tr style=\"text-align: right;\">\n",
       "      <th></th>\n",
       "      <th>HP</th>\n",
       "      <th>MPG</th>\n",
       "      <th>VOL</th>\n",
       "      <th>SP</th>\n",
       "      <th>WT</th>\n",
       "    </tr>\n",
       "  </thead>\n",
       "  <tbody>\n",
       "    <tr>\n",
       "      <th>0</th>\n",
       "      <td>49</td>\n",
       "      <td>53.700681</td>\n",
       "      <td>89</td>\n",
       "      <td>104.185353</td>\n",
       "      <td>28.762059</td>\n",
       "    </tr>\n",
       "    <tr>\n",
       "      <th>1</th>\n",
       "      <td>55</td>\n",
       "      <td>50.013401</td>\n",
       "      <td>92</td>\n",
       "      <td>105.461264</td>\n",
       "      <td>30.466833</td>\n",
       "    </tr>\n",
       "    <tr>\n",
       "      <th>2</th>\n",
       "      <td>55</td>\n",
       "      <td>50.013401</td>\n",
       "      <td>92</td>\n",
       "      <td>105.461264</td>\n",
       "      <td>30.193597</td>\n",
       "    </tr>\n",
       "    <tr>\n",
       "      <th>3</th>\n",
       "      <td>70</td>\n",
       "      <td>45.696322</td>\n",
       "      <td>92</td>\n",
       "      <td>113.461264</td>\n",
       "      <td>30.632114</td>\n",
       "    </tr>\n",
       "    <tr>\n",
       "      <th>4</th>\n",
       "      <td>53</td>\n",
       "      <td>50.504232</td>\n",
       "      <td>92</td>\n",
       "      <td>104.461264</td>\n",
       "      <td>29.889149</td>\n",
       "    </tr>\n",
       "    <tr>\n",
       "      <th>...</th>\n",
       "      <td>...</td>\n",
       "      <td>...</td>\n",
       "      <td>...</td>\n",
       "      <td>...</td>\n",
       "      <td>...</td>\n",
       "    </tr>\n",
       "    <tr>\n",
       "      <th>76</th>\n",
       "      <td>322</td>\n",
       "      <td>36.900000</td>\n",
       "      <td>50</td>\n",
       "      <td>169.598513</td>\n",
       "      <td>16.132947</td>\n",
       "    </tr>\n",
       "    <tr>\n",
       "      <th>77</th>\n",
       "      <td>238</td>\n",
       "      <td>19.197888</td>\n",
       "      <td>115</td>\n",
       "      <td>150.576579</td>\n",
       "      <td>37.923113</td>\n",
       "    </tr>\n",
       "    <tr>\n",
       "      <th>78</th>\n",
       "      <td>263</td>\n",
       "      <td>34.000000</td>\n",
       "      <td>50</td>\n",
       "      <td>151.598513</td>\n",
       "      <td>15.769625</td>\n",
       "    </tr>\n",
       "    <tr>\n",
       "      <th>79</th>\n",
       "      <td>295</td>\n",
       "      <td>19.833733</td>\n",
       "      <td>119</td>\n",
       "      <td>167.944460</td>\n",
       "      <td>39.423099</td>\n",
       "    </tr>\n",
       "    <tr>\n",
       "      <th>80</th>\n",
       "      <td>236</td>\n",
       "      <td>12.101263</td>\n",
       "      <td>107</td>\n",
       "      <td>139.840817</td>\n",
       "      <td>34.948615</td>\n",
       "    </tr>\n",
       "  </tbody>\n",
       "</table>\n",
       "<p>81 rows × 5 columns</p>\n",
       "</div>"
      ],
      "text/plain": [
       "     HP        MPG  VOL          SP         WT\n",
       "0    49  53.700681   89  104.185353  28.762059\n",
       "1    55  50.013401   92  105.461264  30.466833\n",
       "2    55  50.013401   92  105.461264  30.193597\n",
       "3    70  45.696322   92  113.461264  30.632114\n",
       "4    53  50.504232   92  104.461264  29.889149\n",
       "..  ...        ...  ...         ...        ...\n",
       "76  322  36.900000   50  169.598513  16.132947\n",
       "77  238  19.197888  115  150.576579  37.923113\n",
       "78  263  34.000000   50  151.598513  15.769625\n",
       "79  295  19.833733  119  167.944460  39.423099\n",
       "80  236  12.101263  107  139.840817  34.948615\n",
       "\n",
       "[81 rows x 5 columns]"
      ]
     },
     "execution_count": 34,
     "metadata": {},
     "output_type": "execute_result"
    }
   ],
   "source": [
    "cars=pd.read_csv('Cars.csv')\n",
    "cars"
   ]
  },
  {
   "cell_type": "code",
   "execution_count": 35,
   "id": "4d409d5a",
   "metadata": {},
   "outputs": [
    {
     "data": {
      "image/png": "[encoded data removed]",
      "text/plain": [
       "<Figure size 432x288 with 1 Axes>"
      ]
     },
     "metadata": {
      "needs_background": "light"
     },
     "output_type": "display_data"
    }
   ],
   "source": [
    "sns.boxplot(cars.MPG);"
   ]
  },
  {
   "cell_type": "code",
   "execution_count": 36,
   "id": "578b0d77",
   "metadata": {},
   "outputs": [
    {
     "data": {
      "text/plain": [
       "0.34759392515827137"
      ]
     },
     "execution_count": 36,
     "metadata": {},
     "output_type": "execute_result"
    }
   ],
   "source": [
    "# P(MPG>38)\n",
    "1-stats.norm.cdf(38,cars.MPG.mean(),cars.MPG.std())"
   ]
  },
  {
   "cell_type": "code",
   "execution_count": 37,
   "id": "661c7556",
   "metadata": {},
   "outputs": [
    {
     "data": {
      "text/plain": [
       "0.7293498762151609"
      ]
     },
     "execution_count": 37,
     "metadata": {},
     "output_type": "execute_result"
    }
   ],
   "source": [
    "# P(MPG<40)\n",
    "stats.norm.cdf(40,cars.MPG.mean(),cars.MPG.std())"
   ]
  },
  {
   "cell_type": "code",
   "execution_count": 38,
   "id": "bdc05c6b",
   "metadata": {},
   "outputs": [
    {
     "data": {
      "text/plain": [
       "1.2430968797327491e-05"
      ]
     },
     "execution_count": 38,
     "metadata": {},
     "output_type": "execute_result"
    }
   ],
   "source": [
    "# P (20\n",
    "stats.norm.cdf(0.50,cars.MPG.mean(),cars.MPG.std())-stats.norm.cdf(0.20,cars.MPG.mean(),cars.MPG.std())  "
   ]
  },
  {
   "cell_type": "markdown",
   "id": "2a218291",
   "metadata": {},
   "source": [
    "# "
   ]
  },
  {
   "cell_type": "markdown",
   "id": "34998ee6",
   "metadata": {},
   "source": [
    "### Q 21) Check whether the data follows normal distribution\n",
    "##### a.) Check whether the MPG of Cars follows Normal Distribution \n",
    "- Dataset: Cars.csv\n",
    "\n",
    "##### b.) Check Whether the Adipose Tissue (AT) and Waist Circumference(Waist)  from wc-at data set  follows Normal Distribution \n",
    "- Dataset: wc-at.csv"
   ]
  },
  {
   "cell_type": "code",
   "execution_count": 39,
   "id": "e4c4251f",
   "metadata": {},
   "outputs": [
    {
     "data": {
      "text/html": [
       "<div>\n",
       "<style scoped>\n",
       "    .dataframe tbody tr th:only-of-type {\n",
       "        vertical-align: middle;\n",
       "    }\n",
       "\n",
       "    .dataframe tbody tr th {\n",
       "        vertical-align: top;\n",
       "    }\n",
       "\n",
       "    .dataframe thead th {\n",
       "        text-align: right;\n",
       "    }\n",
       "</style>\n",
       "<table border=\"1\" class=\"dataframe\">\n",
       "  <thead>\n",
       "    <tr style=\"text-align: right;\">\n",
       "      <th></th>\n",
       "      <th>HP</th>\n",
       "      <th>MPG</th>\n",
       "      <th>VOL</th>\n",
       "      <th>SP</th>\n",
       "      <th>WT</th>\n",
       "    </tr>\n",
       "  </thead>\n",
       "  <tbody>\n",
       "    <tr>\n",
       "      <th>0</th>\n",
       "      <td>49</td>\n",
       "      <td>53.700681</td>\n",
       "      <td>89</td>\n",
       "      <td>104.185353</td>\n",
       "      <td>28.762059</td>\n",
       "    </tr>\n",
       "    <tr>\n",
       "      <th>1</th>\n",
       "      <td>55</td>\n",
       "      <td>50.013401</td>\n",
       "      <td>92</td>\n",
       "      <td>105.461264</td>\n",
       "      <td>30.466833</td>\n",
       "    </tr>\n",
       "    <tr>\n",
       "      <th>2</th>\n",
       "      <td>55</td>\n",
       "      <td>50.013401</td>\n",
       "      <td>92</td>\n",
       "      <td>105.461264</td>\n",
       "      <td>30.193597</td>\n",
       "    </tr>\n",
       "    <tr>\n",
       "      <th>3</th>\n",
       "      <td>70</td>\n",
       "      <td>45.696322</td>\n",
       "      <td>92</td>\n",
       "      <td>113.461264</td>\n",
       "      <td>30.632114</td>\n",
       "    </tr>\n",
       "    <tr>\n",
       "      <th>4</th>\n",
       "      <td>53</td>\n",
       "      <td>50.504232</td>\n",
       "      <td>92</td>\n",
       "      <td>104.461264</td>\n",
       "      <td>29.889149</td>\n",
       "    </tr>\n",
       "  </tbody>\n",
       "</table>\n",
       "</div>"
      ],
      "text/plain": [
       "   HP        MPG  VOL          SP         WT\n",
       "0  49  53.700681   89  104.185353  28.762059\n",
       "1  55  50.013401   92  105.461264  30.466833\n",
       "2  55  50.013401   92  105.461264  30.193597\n",
       "3  70  45.696322   92  113.461264  30.632114\n",
       "4  53  50.504232   92  104.461264  29.889149"
      ]
     },
     "execution_count": 39,
     "metadata": {},
     "output_type": "execute_result"
    }
   ],
   "source": [
    "cars=pd.read_csv('Cars.csv')\n",
    "cars.head()"
   ]
  },
  {
   "cell_type": "markdown",
   "id": "393cee8b",
   "metadata": {},
   "source": [
    "#### a.) Check whether the MPG of Cars follows Normal Distribution\n",
    "##### Answer: MPG is Normal Distribution"
   ]
  },
  {
   "cell_type": "code",
   "execution_count": 40,
   "id": "0cb4eee9",
   "metadata": {},
   "outputs": [
    {
     "name": "stderr",
     "output_type": "stream",
     "text": [
      "C:\\Users\\KAMLESH KUMAR\\AppData\\Local\\Temp\\ipykernel_20860\\1799843233.py:1: UserWarning: \n",
      "\n",
      "`distplot` is a deprecated function and will be removed in seaborn v0.14.0.\n",
      "\n",
      "Please adapt your code to use either `displot` (a figure-level function with\n",
      "similar flexibility) or `histplot` (an axes-level function for histograms).\n",
      "\n",
      "For a guide to updating your code to use the new functions, please see\n",
      "https://gist.github.com/mwaskom/de44147ed2974457ad6372750bbe5751\n",
      "\n",
      "  sns.distplot(cars.MPG, label='Cars_MPG')\n"
     ]
    },
    {
     "data": {
      "image/png": "[encoded data removed]",
      "text/plain": [
       "<Figure size 432x288 with 1 Axes>"
      ]
     },
     "metadata": {
      "needs_background": "light"
     },
     "output_type": "display_data"
    }
   ],
   "source": [
    "sns.distplot(cars.MPG, label='Cars_MPG')\n",
    "plt.xlabel('MPG')\n",
    "plt.ylabel('Density')\n",
    "plt.legend();"
   ]
  },
  {
   "cell_type": "code",
   "execution_count": 41,
   "id": "07dcd7cd",
   "metadata": {},
   "outputs": [
    {
     "data": {
      "text/plain": [
       "34.42207572802469"
      ]
     },
     "execution_count": 41,
     "metadata": {},
     "output_type": "execute_result"
    }
   ],
   "source": [
    "cars.MPG.mean()"
   ]
  },
  {
   "cell_type": "code",
   "execution_count": 42,
   "id": "a7ba457a",
   "metadata": {},
   "outputs": [
    {
     "data": {
      "text/plain": [
       "35.15272697"
      ]
     },
     "execution_count": 42,
     "metadata": {},
     "output_type": "execute_result"
    }
   ],
   "source": [
    "cars.MPG.median()"
   ]
  },
  {
   "cell_type": "markdown",
   "id": "907082c1",
   "metadata": {},
   "source": [
    "##### b.) Check Whether the Adipose Tissue (AT) and Waist Circumference(Waist) from wc-at data set follows Normal Distribution\n",
    "##### Answer: Both AT and Waist doesn’t follow Normal Distribution\n"
   ]
  },
  {
   "cell_type": "code",
   "execution_count": 43,
   "id": "5e9c3c7e",
   "metadata": {},
   "outputs": [
    {
     "data": {
      "text/html": [
       "<div>\n",
       "<style scoped>\n",
       "    .dataframe tbody tr th:only-of-type {\n",
       "        vertical-align: middle;\n",
       "    }\n",
       "\n",
       "    .dataframe tbody tr th {\n",
       "        vertical-align: top;\n",
       "    }\n",
       "\n",
       "    .dataframe thead th {\n",
       "        text-align: right;\n",
       "    }\n",
       "</style>\n",
       "<table border=\"1\" class=\"dataframe\">\n",
       "  <thead>\n",
       "    <tr style=\"text-align: right;\">\n",
       "      <th></th>\n",
       "      <th>Waist</th>\n",
       "      <th>AT</th>\n",
       "    </tr>\n",
       "  </thead>\n",
       "  <tbody>\n",
       "    <tr>\n",
       "      <th>0</th>\n",
       "      <td>74.75</td>\n",
       "      <td>25.72</td>\n",
       "    </tr>\n",
       "    <tr>\n",
       "      <th>1</th>\n",
       "      <td>72.60</td>\n",
       "      <td>25.89</td>\n",
       "    </tr>\n",
       "    <tr>\n",
       "      <th>2</th>\n",
       "      <td>81.80</td>\n",
       "      <td>42.60</td>\n",
       "    </tr>\n",
       "    <tr>\n",
       "      <th>3</th>\n",
       "      <td>83.95</td>\n",
       "      <td>42.80</td>\n",
       "    </tr>\n",
       "    <tr>\n",
       "      <th>4</th>\n",
       "      <td>74.65</td>\n",
       "      <td>29.84</td>\n",
       "    </tr>\n",
       "  </tbody>\n",
       "</table>\n",
       "</div>"
      ],
      "text/plain": [
       "   Waist     AT\n",
       "0  74.75  25.72\n",
       "1  72.60  25.89\n",
       "2  81.80  42.60\n",
       "3  83.95  42.80\n",
       "4  74.65  29.84"
      ]
     },
     "execution_count": 43,
     "metadata": {},
     "output_type": "execute_result"
    }
   ],
   "source": [
    "wcat=pd.read_csv('wc-at.csv')\n",
    "wcat.head()"
   ]
  },
  {
   "cell_type": "code",
   "execution_count": 44,
   "id": "1f9b9507",
   "metadata": {},
   "outputs": [
    {
     "name": "stderr",
     "output_type": "stream",
     "text": [
      "C:\\Users\\KAMLESH KUMAR\\AppData\\Local\\Temp\\ipykernel_20860\\2221530997.py:2: UserWarning: \n",
      "\n",
      "`distplot` is a deprecated function and will be removed in seaborn v0.14.0.\n",
      "\n",
      "Please adapt your code to use either `displot` (a figure-level function with\n",
      "similar flexibility) or `histplot` (an axes-level function for histograms).\n",
      "\n",
      "For a guide to updating your code to use the new functions, please see\n",
      "https://gist.github.com/mwaskom/de44147ed2974457ad6372750bbe5751\n",
      "\n",
      "  sns.distplot(wcat.Waist)\n"
     ]
    },
    {
     "data": {
      "image/png": "[encoded data removed]",
      "text/plain": [
       "<Figure size 432x288 with 1 Axes>"
      ]
     },
     "metadata": {
      "needs_background": "light"
     },
     "output_type": "display_data"
    }
   ],
   "source": [
    "# plotting distribution for Waist Circumference (Waist) \n",
    "sns.distplot(wcat.Waist)\n",
    "plt.ylabel('density');"
   ]
  },
  {
   "cell_type": "code",
   "execution_count": 45,
   "id": "044dc52a",
   "metadata": {},
   "outputs": [
    {
     "name": "stderr",
     "output_type": "stream",
     "text": [
      "C:\\Users\\KAMLESH KUMAR\\AppData\\Local\\Temp\\ipykernel_20860\\1417730316.py:2: UserWarning: \n",
      "\n",
      "`distplot` is a deprecated function and will be removed in seaborn v0.14.0.\n",
      "\n",
      "Please adapt your code to use either `displot` (a figure-level function with\n",
      "similar flexibility) or `histplot` (an axes-level function for histograms).\n",
      "\n",
      "For a guide to updating your code to use the new functions, please see\n",
      "https://gist.github.com/mwaskom/de44147ed2974457ad6372750bbe5751\n",
      "\n",
      "  sns.distplot(wcat.AT)\n"
     ]
    },
    {
     "data": {
      "image/png": "[encoded data removed]",
      "text/plain": [
       "<Figure size 432x288 with 1 Axes>"
      ]
     },
     "metadata": {
      "needs_background": "light"
     },
     "output_type": "display_data"
    }
   ],
   "source": [
    "# plotting distribution for Adipose Tissue (AT) \n",
    "sns.distplot(wcat.AT)\n",
    "plt.ylabel('density');"
   ]
  },
  {
   "cell_type": "code",
   "execution_count": 46,
   "id": "76d607c0",
   "metadata": {},
   "outputs": [
    {
     "data": {
      "text/plain": [
       "(91.90183486238531, 90.8)"
      ]
     },
     "execution_count": 46,
     "metadata": {},
     "output_type": "execute_result"
    }
   ],
   "source": [
    "# WC\n",
    "wcat.Waist.mean() , wcat.Waist.median()"
   ]
  },
  {
   "cell_type": "code",
   "execution_count": 47,
   "id": "f16fa421",
   "metadata": {},
   "outputs": [
    {
     "data": {
      "text/plain": [
       "(101.89403669724771, 96.54)"
      ]
     },
     "execution_count": 47,
     "metadata": {},
     "output_type": "execute_result"
    }
   ],
   "source": [
    "# AT\n",
    "wcat.AT.mean() , wcat.AT.median()"
   ]
  },
  {
   "cell_type": "markdown",
   "id": "6b9d0c71",
   "metadata": {},
   "source": [
    "# "
   ]
  },
  {
   "cell_type": "markdown",
   "id": "e577a688",
   "metadata": {},
   "source": [
    "### Q 22) Calculate the Z scores of  90% confidence interval,94% confidence interval, 60% confidence interval "
   ]
  },
  {
   "cell_type": "code",
   "execution_count": 48,
   "id": "9e6ceded",
   "metadata": {},
   "outputs": [
    {
     "data": {
      "text/plain": [
       "1.6448536269514722"
      ]
     },
     "execution_count": 48,
     "metadata": {},
     "output_type": "execute_result"
    }
   ],
   "source": [
    "# Z-score of 90% confidence interval \n",
    "stats.norm.ppf(0.95)"
   ]
  },
  {
   "cell_type": "code",
   "execution_count": 49,
   "id": "e89a3629",
   "metadata": {},
   "outputs": [
    {
     "data": {
      "text/plain": [
       "1.8807936081512509"
      ]
     },
     "execution_count": 49,
     "metadata": {},
     "output_type": "execute_result"
    }
   ],
   "source": [
    "# Z-score of 94% confidence interval\n",
    "stats.norm.ppf(0.97)"
   ]
  },
  {
   "cell_type": "code",
   "execution_count": 50,
   "id": "c266a106",
   "metadata": {},
   "outputs": [
    {
     "data": {
      "text/plain": [
       "0.8416212335729143"
      ]
     },
     "execution_count": 50,
     "metadata": {},
     "output_type": "execute_result"
    }
   ],
   "source": [
    "# Z-score of 60% confidence interval\n",
    "stats.norm.ppf(0.8)"
   ]
  },
  {
   "cell_type": "markdown",
   "id": "f42334cf",
   "metadata": {},
   "source": [
    "# "
   ]
  },
  {
   "cell_type": "markdown",
   "id": "501c52fa",
   "metadata": {},
   "source": [
    "### Q 23) Calculate the t scores of 95% confidence interval, 96% confidence interval, 99% confidence interval for sample size of 25"
   ]
  },
  {
   "cell_type": "code",
   "execution_count": 51,
   "id": "40a05e92",
   "metadata": {},
   "outputs": [
    {
     "data": {
      "text/plain": [
       "2.0638985616280205"
      ]
     },
     "execution_count": 51,
     "metadata": {},
     "output_type": "execute_result"
    }
   ],
   "source": [
    "# t scores of 95% confidence interval for sample size of 25\n",
    "stats.t.ppf(0.975,24)  # df = n-1 = 24"
   ]
  },
  {
   "cell_type": "code",
   "execution_count": 52,
   "id": "6aff6aa1",
   "metadata": {},
   "outputs": [
    {
     "data": {
      "text/plain": [
       "2.1715446760080677"
      ]
     },
     "execution_count": 52,
     "metadata": {},
     "output_type": "execute_result"
    }
   ],
   "source": [
    "# t scores of 96% confidence interval for sample size of 25\n",
    "stats.t.ppf(0.98,24)"
   ]
  },
  {
   "cell_type": "code",
   "execution_count": 53,
   "id": "6dd13008",
   "metadata": {},
   "outputs": [
    {
     "data": {
      "text/plain": [
       "2.796939504772804"
      ]
     },
     "execution_count": 53,
     "metadata": {},
     "output_type": "execute_result"
    }
   ],
   "source": [
    "# t scores of 99% confidence interval for sample size of 25\n",
    "stats.t.ppf(0.995,24)"
   ]
  },
  {
   "cell_type": "markdown",
   "id": "b2b72306",
   "metadata": {},
   "source": [
    "# "
   ]
  },
  {
   "cell_type": "markdown",
   "id": "3edf209b",
   "metadata": {},
   "source": [
    "### Q 24)   A Government  company claims that an average light bulb lasts 270 days. A researcher randomly selects 18 bulbs for testing. The sampled bulbs last an average of 260 days, with a standard deviation of 90 days. If the CEO's claim were true, what is the probability that 18 randomly selected bulbs would have an average life of no more than 260 days\n",
    "##### Hint:  \n",
    "- rcode   pt(tscore,df)  \n",
    "- df  degrees of freedom\n"
   ]
  },
  {
   "cell_type": "markdown",
   "id": "143dfbfd",
   "metadata": {},
   "source": [
    "##### Assume Null Hypothesis is: H1= Avg life of Bulb >= 260 days\n",
    "##### Alternate Hypothesis is: H2 = Avg life of Bulb < 260 days"
   ]
  },
  {
   "cell_type": "code",
   "execution_count": 54,
   "id": "566d908f",
   "metadata": {},
   "outputs": [
    {
     "data": {
      "text/plain": [
       "-0.4714045207910317"
      ]
     },
     "execution_count": 54,
     "metadata": {},
     "output_type": "execute_result"
    }
   ],
   "source": [
    "# find t-scores at x=260;\n",
    "\n",
    "s_mean=260\n",
    "P_mean=270\n",
    "s_SD=90\n",
    "sqrt_n=18**0.5\n",
    "\n",
    "t=(s_mean-P_mean)/(s_SD/sqrt_n)\n",
    "# t=(260-270)/(90/18**0.5)\n",
    "t"
   ]
  },
  {
   "cell_type": "markdown",
   "id": "fda65900",
   "metadata": {},
   "source": [
    "##### Find P(X>=260) for null hypothesis"
   ]
  },
  {
   "cell_type": "code",
   "execution_count": 55,
   "id": "d31883bd",
   "metadata": {},
   "outputs": [
    {
     "ename": "NameError",
     "evalue": "name 'n' is not defined",
     "output_type": "error",
     "traceback": [
      "\u001b[1;31m---------------------------------------------------------------------------\u001b[0m",
      "\u001b[1;31mNameError\u001b[0m                                 Traceback (most recent call last)",
      "Input \u001b[1;32mIn [55]\u001b[0m, in \u001b[0;36m<module>\u001b[1;34m\u001b[0m\n\u001b[0;32m      1\u001b[0m \u001b[38;5;66;03m# p_value=1-stats.t.cdf(abs(t_scores),df=n-1)... Using cdf function\u001b[39;00m\n\u001b[0;32m      3\u001b[0m t_scores\u001b[38;5;241m=\u001b[39m\u001b[38;5;241m-\u001b[39m\u001b[38;5;241m0.4714045207910317\u001b[39m\n\u001b[1;32m----> 5\u001b[0m p_value\u001b[38;5;241m=\u001b[39m\u001b[38;5;241m1\u001b[39m\u001b[38;5;241m-\u001b[39mstats\u001b[38;5;241m.\u001b[39mt\u001b[38;5;241m.\u001b[39mcdf(\u001b[38;5;28mabs\u001b[39m(t_scores),df\u001b[38;5;241m=\u001b[39m\u001b[43mn\u001b[49m\u001b[38;5;241m-\u001b[39m\u001b[38;5;241m1\u001b[39m)\n\u001b[0;32m      7\u001b[0m \u001b[38;5;66;03m# p_value=1-stats.t.cdf(abs(-0.4714),df=17)\u001b[39;00m\n\u001b[0;32m      8\u001b[0m p_value\n",
      "\u001b[1;31mNameError\u001b[0m: name 'n' is not defined"
     ]
    }
   ],
   "source": [
    "# p_value=1-stats.t.cdf(abs(t_scores),df=n-1)... Using cdf function\n",
    "\n",
    "t_scores=-0.4714045207910317\n",
    "\n",
    "p_value=1-stats.t.cdf(abs(t_scores),df=n-1)\n",
    "\n",
    "# p_value=1-stats.t.cdf(abs(-0.4714),df=17)\n",
    "p_value"
   ]
  },
  {
   "cell_type": "code",
   "execution_count": null,
   "id": "3824da6f",
   "metadata": {},
   "outputs": [],
   "source": []
  },
  {
   "cell_type": "code",
   "execution_count": null,
   "id": "1cd3308c",
   "metadata": {},
   "outputs": [],
   "source": []
  },
  {
   "cell_type": "code",
   "execution_count": null,
   "id": "b00652bb",
   "metadata": {},
   "outputs": [],
   "source": []
  },
  {
   "cell_type": "code",
   "execution_count": null,
   "id": "09b24e36",
   "metadata": {},
   "outputs": [],
   "source": []
  }
 ],
 "metadata": {
  "kernelspec": {
   "display_name": "Python 3 (ipykernel)",
   "language": "python",
   "name": "python3"
  },
  "language_info": {
   "codemirror_mode": {
    "name": "ipython",
    "version": 3
   },
   "file_extension": ".py",
   "mimetype": "text/x-python",
   "name": "python",
   "nbconvert_exporter": "python",
   "pygments_lexer": "ipython3",
   "version": "3.10.0"
  }
 },
 "nbformat": 4,
 "nbformat_minor": 5
}
