{
 "cells": [
  {
   "cell_type": "code",
   "execution_count": 1,
   "id": "bdf322c3",
   "metadata": {},
   "outputs": [],
   "source": [
    "from scipy import stats\n",
    "from scipy.stats import norm\n",
    "import numpy as np\n"
   ]
  },
  {
   "cell_type": "markdown",
   "id": "aeaa9513",
   "metadata": {},
   "source": [
    "### Q1.) For each of the following statements, indicate whether it is True/False. If false, explain why.\n",
    "\n",
    "I.\tThe sample size of the survey should at least be a fixed percentage of the population size in order to produce representative results.\n",
    "\n",
    "II.\tThe sampling frame is a list of every item that appears in a survey sample, including those that did not respond to questions.\n",
    "\n",
    "III.\tLarger surveys convey a more accurate impression of the population than smaller surveys.\n"
   ]
  },
  {
   "cell_type": "markdown",
   "id": "7a7ac2ea",
   "metadata": {},
   "source": [
    "##### Ans"
   ]
  },
  {
   "cell_type": "markdown",
   "id": "fcc9ae62",
   "metadata": {},
   "source": [
    "##### 1.True: \n",
    "- The representation of the survey results should have a sample size. The sample size must be a fixed percentage of the total population size of the survey.\n",
    "\n",
    "##### 2. False: \n",
    "- The sampling frame refers to a list of an item which responds to the question and not the ones which do not respond to the questions.\n",
    "\n",
    "##### 3. True: \n",
    "- The larger conveys a more accurate impression of the population as larger surveys involve large sample size which reduces the chances of error."
   ]
  },
  {
   "cell_type": "code",
   "execution_count": null,
   "id": "ef1b5794",
   "metadata": {},
   "outputs": [],
   "source": []
  },
  {
   "cell_type": "markdown",
   "id": "838aeaaf",
   "metadata": {},
   "source": [
    "### Q2.) PC Magazine asked all of its readers to participate in a survey of their satisfaction with different brands of electronics. In the 2004 survey, which was included in an issue of the magazine that year, more than 9000 readers rated the products on a scale from 1 to 10. The magazine reported that the average rating assigned by 225 readers to a Kodak compact digital camera was 7.5. For this product, identify the following:\n",
    "\n",
    "- A.\tThe population\n",
    "- B.\tThe parameter of interest\n",
    "- C.\tThe sampling frame\n",
    "- D.\tThe sample size\n",
    "- E.\tThe sampling design\n",
    "- F.\tAny potential sources of bias or other problems with the survey or sample"
   ]
  },
  {
   "cell_type": "markdown",
   "id": "194d9137",
   "metadata": {},
   "source": [
    "##### Ans"
   ]
  },
  {
   "cell_type": "markdown",
   "id": "40e1a209",
   "metadata": {},
   "source": [
    "##### A.The population\n",
    "- Ans) p=x/n=225/9000=0.025\n",
    "##### B.The parameter of interest\n",
    "- Ans) sample size,average,scale\n",
    "##### C.The sampling frame\n",
    "- Ans) 9000\n",
    "##### D.The sample size\n",
    "- Ans 225\n",
    "##### E.The sampling design\n",
    "##### F.Any potential sources of bias or other problems with the survey or sample"
   ]
  },
  {
   "cell_type": "code",
   "execution_count": null,
   "id": "6d09a7de",
   "metadata": {},
   "outputs": [],
   "source": []
  },
  {
   "cell_type": "markdown",
   "id": "8bdb3672",
   "metadata": {},
   "source": [
    "### Q3.)\tFor each of the following statements, indicate whether it is True/False. If false, explain why.\n",
    "\n",
    "- I.\tIf the 95% confidence interval for the average purchase of customers at a department store is 50usd to 110usd, then 100usd is a plausible value for the population mean at this level of confidence.\n",
    "\n",
    "- II.\tIf the 95% confidence interval for the number of moviegoers who purchase concessions is 30% to 45%, this means that fewer than half of all moviegoers purchase concessions.\n",
    "\n",
    "- III.\tThe 95% Confidence-Interval for μ only applies if the sample data are nearly normally distributed."
   ]
  },
  {
   "cell_type": "markdown",
   "id": "f838c8ff",
   "metadata": {},
   "source": [
    "##### Ans"
   ]
  },
  {
   "cell_type": "markdown",
   "id": "7a5ef9dc",
   "metadata": {},
   "source": [
    "- Ans 1: True (Confidence interval identifies the collection of values for the population which is consistent with the observed sample)\n",
    "\n",
    "- Ans 2: False (Cannot say that with absolute certainty with this information)\n",
    "\n",
    "- Ans 3: False (Confidence Interval is depended on many factors and not just  μ)"
   ]
  },
  {
   "cell_type": "markdown",
   "id": "a3a69696",
   "metadata": {},
   "source": [
    "### 4.)\tWhat are the chances that  ? \n",
    "\n",
    "- A.\t¼ \n",
    "- B.\t½ \n",
    "- C.\t¾ \n",
    "- D.\t1\n"
   ]
  },
  {
   "cell_type": "markdown",
   "id": "30ab6902",
   "metadata": {},
   "source": [
    "Ans: Incomplete information"
   ]
  },
  {
   "cell_type": "markdown",
   "id": "f140abfe",
   "metadata": {},
   "source": [
    "### 5.)\tIn January 2005, a company that monitors Internet traffic (WebSideStory) reported that its sampling revealed that the Mozilla Firefox browser launched in 2004 had grabbed a 4.6% share of the market.\n",
    "\n",
    "- I.\tIf the sample were based on 2,000 users, could Microsoft conclude that Mozilla has a less than 5% share of the market?\n",
    "\n",
    "- II.\tWebSideStory claims that its sample includes all the daily Internet users. If that’s the case, then can Microsoft conclude that Mozilla has a less than 5% share of the market?"
   ]
  },
  {
   "cell_type": "code",
   "execution_count": 2,
   "id": "d71821c1",
   "metadata": {},
   "outputs": [],
   "source": [
    "# 1. Apply One-Sample One-Tail z-test"
   ]
  },
  {
   "cell_type": "code",
   "execution_count": 3,
   "id": "905931ac",
   "metadata": {},
   "outputs": [
    {
     "data": {
      "text/plain": [
       "-0.820782681668124"
      ]
     },
     "execution_count": 3,
     "metadata": {},
     "output_type": "execute_result"
    }
   ],
   "source": [
    "z_scores=(0.046-0.05)/(np.sqrt((0.05*(1-0.05))/2000))\n",
    "z_scores"
   ]
  },
  {
   "cell_type": "markdown",
   "id": "4b835f8c",
   "metadata": {},
   "source": [
    "#### Ans1. Yes"
   ]
  },
  {
   "cell_type": "code",
   "execution_count": 4,
   "id": "1b9af18b",
   "metadata": {},
   "outputs": [],
   "source": [
    "# 2. Find Probability assuming null hyposthesis, so as to compare with Type-1 error α = 0.05"
   ]
  },
  {
   "cell_type": "code",
   "execution_count": 5,
   "id": "1cda5f57",
   "metadata": {},
   "outputs": [
    {
     "data": {
      "text/plain": [
       "0.20588503245107104"
      ]
     },
     "execution_count": 5,
     "metadata": {},
     "output_type": "execute_result"
    }
   ],
   "source": [
    "p_value=1-stats.norm.cdf(abs(z_scores))\n",
    "p_value"
   ]
  },
  {
   "cell_type": "markdown",
   "id": "07685d20",
   "metadata": {},
   "source": [
    "#### Ans2. Yes"
   ]
  },
  {
   "cell_type": "markdown",
   "id": "4f2cece5",
   "metadata": {},
   "source": [
    "### 6.) A book publisher monitors the size of shipments of its textbooks to university bookstores. For a sample of texts used at various schools, the 95% confidence interval for the size of the shipment was 250 ± 45 books. Which, if any, of the following interpretations of this interval are correct?\n",
    "\n",
    "- A.\tAll shipments are between 205 and 295 books.\n",
    "\n",
    "- B.\t95% of shipments are between 205 and 295 books.\n",
    "\n",
    "- C.\tThe procedure that produced this interval generates ranges that hold the population mean for 95% of samples.\n",
    "\n",
    "- D.\tIf we get another sample, then we can be 95% sure that the mean of this second sample is between 205 and 295.\n",
    "\n",
    "- E.\tWe can be 95% confident that the range 160 to 340 holds the population mean.\n"
   ]
  },
  {
   "cell_type": "markdown",
   "id": "78039d31",
   "metadata": {},
   "source": [
    "##### Ans"
   ]
  },
  {
   "cell_type": "markdown",
   "id": "d328bf2d",
   "metadata": {},
   "source": [
    "- A.  Ans: Incorrect (confidence interval is 95%)\n",
    "- B.  Ans: Incorrect \n",
    "- C   Ans: Correct\n",
    "- D   Ans: Incorrect\n",
    "- E   Ans: Incorrect"
   ]
  },
  {
   "cell_type": "markdown",
   "id": "eb369064",
   "metadata": {},
   "source": [
    "### Q7.) Which is shorter: a 95% z-interval or a 95% t-interval for μ if we know that σ =s?\n",
    "\n",
    "- A.\tThe z-interval is shorter\n",
    "- B.\tThe t-interval is shorter\n",
    "- C.\tBoth are equal\n",
    "- D.\tWe cannot say\n"
   ]
  },
  {
   "cell_type": "markdown",
   "id": "7bd715ea",
   "metadata": {},
   "source": [
    "##### Ans: A  (The z-interval is shorter)"
   ]
  },
  {
   "cell_type": "code",
   "execution_count": null,
   "id": "301d50e8",
   "metadata": {},
   "outputs": [],
   "source": []
  },
  {
   "cell_type": "markdown",
   "id": "2a8a403c",
   "metadata": {},
   "source": [
    "### Questions 8 and 9 are based on the following: To prepare a report on the economy, analysts need to estimate the percentage of businesses that plan to hire additional employees in the next 60 days."
   ]
  },
  {
   "cell_type": "markdown",
   "id": "f1454c7d",
   "metadata": {},
   "source": [
    "### 8.) How many randomly selected employers (minimum number) must we contact in order to guarantee a margin of error of no more than 4% (at 95% confidence)?\n",
    "\n",
    "- A.\t600\n",
    "- B.\t400\n",
    "- C.\t550\n",
    "- D.\t1000"
   ]
  },
  {
   "cell_type": "markdown",
   "id": "e326924c",
   "metadata": {},
   "source": [
    "##### Ans"
   ]
  },
  {
   "cell_type": "markdown",
   "id": "15b72e56",
   "metadata": {},
   "source": [
    "#### margins of error estimate is 1/sqrt(n)\n",
    "#### if 0.04 = 1/25 is margin of error\n",
    "\n",
    "#### then n=25^2 or 625."
   ]
  },
  {
   "cell_type": "markdown",
   "id": "3bdc304f",
   "metadata": {},
   "source": [
    "#### Answer  600."
   ]
  },
  {
   "cell_type": "code",
   "execution_count": null,
   "id": "072fe0cb",
   "metadata": {},
   "outputs": [],
   "source": []
  },
  {
   "cell_type": "code",
   "execution_count": null,
   "id": "d22bc6e9",
   "metadata": {},
   "outputs": [],
   "source": []
  },
  {
   "cell_type": "code",
   "execution_count": null,
   "id": "4fa6828f",
   "metadata": {},
   "outputs": [],
   "source": []
  }
 ],
 "metadata": {
  "kernelspec": {
   "display_name": "Python 3 (ipykernel)",
   "language": "python",
   "name": "python3"
  },
  "language_info": {
   "codemirror_mode": {
    "name": "ipython",
    "version": 3
   },
   "file_extension": ".py",
   "mimetype": "text/x-python",
   "name": "python",
   "nbconvert_exporter": "python",
   "pygments_lexer": "ipython3",
   "version": "3.10.0"
  }
 },
 "nbformat": 4,
 "nbformat_minor": 5
}
